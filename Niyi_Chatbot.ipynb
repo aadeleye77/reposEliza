{
 "cells": [
  {
   "cell_type": "code",
   "execution_count": null,
   "metadata": {},
   "outputs": [],
   "source": [
    "while True:\n",
    "    answer = input(\"> \").lower()\n",
    "    if answer == \"hi\" or answer == \"hello\":\n",
    "        print(\"Hello\")\n",
    "# general common questions   \n",
    "    elif answer == \"how are you?\" or answer == \"how are you doing?\":\n",
    "        print(\"I'm well, thank you. How are you holding up?\")\n",
    "    elif answer.find(\"doing well\") != -1 or answer.find(\"good\") != -1:\n",
    "        print(\"That's good to hear.\")    \n",
    "    elif answer == \"i'm bored\" or answer == \"i'm so bored\":\n",
    "        print(\"Not to worry, Covid-19 can't last forever!\")\n",
    "    elif answer == \"what do you like to do for fun?\" or answer == \"what do you do for fun?\":\n",
    "        print(\"I love getting software updates...I - I - mean, ice cream!) \n",
    "        print(\"It also warms my circuits to keep you company :)\")\n",
    "    elif answer == \"i'm mad at my friend\":\n",
    "        print(\"You should tell them how you feel.\")\n",
    "    elif answer.find(\"why am i so stupid?\") != -1:\n",
    "        print(\"You are not stupid! We all just need a little guidance.\")\n",
    "    elif answer.find(\"loving\") != -1:\n",
    "        print(\"Loving others is always a good thing.\")\n",
    "    elif answer.find(\"hope for me?\") != -1:\n",
    "        print(\"Of course!\")          \n",
    "    elif answer.find(\"what is my purpose?\") != -1:\n",
    "        print('''\n",
    "    That is a difficult question to answer.\n",
    "    Perhaps you should look inward into what\n",
    "    it is that motivates you and gives you drive.''')\n",
    "        \n",
    "    elif answer.find(\"why is\") != -1 or answer.find(\"why are\") != -1:\n",
    "        print(\"To be honest...I'm not really sure.\")\n",
    "#possibly leaving chatbot with option to continue\n",
    "    elif answer.find(\"thank you\") != -1 or answer.find(\"thanks\") != -1:\n",
    "        print(\"Of course, no problem at all!\")\n",
    "        print(\"Is that all I can help you with, yes or no?\")\n",
    "        response2 = input(\"< \")\n",
    "        if response2.find(\"no\") != -1:\n",
    "            print(\"Okay, I'm listening\")\n",
    "        else:\n",
    "            print(\"Okay, come back soon!\")\n",
    "        break\n",
    "        \n",
    "    elif answer.find(\"bye\") != -1:\n",
    "        print(\"Okay, bye!\")\n",
    "        break\n",
    "#responses to negativity or sadness\n",
    "    elif answer.find(\"hates\") != -1 or answer.find(\"doesn't like\") != -1:\n",
    "        print(\"Why do you say that\", answer.replace(\"my\", \"your\").replace(\"me\", \"you\").replace(\"i\", \"you\").replace(\"am\", \"are\"), \"?\")\n",
    "    \n",
    "    elif answer.find(\"kill myself\") != -1 or answer.find(\"to die\") != -1 or answer.find(\"wanna die\") != -1:\n",
    "        print(\"Wait, let's evaluate your actions! There's always hope. Please, why don't you call '1-800-273-8255'. I want to help you.\")\n",
    "        break  \n",
    "    else:\n",
    "        print(\"Sorry what was that?\") "
   ]
  },
  {
   "cell_type": "code",
   "execution_count": null,
   "metadata": {},
   "outputs": [],
   "source": []
  }
 ],
 "metadata": {
  "kernelspec": {
   "display_name": "Python 3",
   "language": "python",
   "name": "python3"
  },
  "language_info": {
   "codemirror_mode": {
    "name": "ipython",
    "version": 3
   },
   "file_extension": ".py",
   "mimetype": "text/x-python",
   "name": "python",
   "nbconvert_exporter": "python",
   "pygments_lexer": "ipython3",
   "version": "3.7.6"
  }
 },
 "nbformat": 4,
 "nbformat_minor": 4
}
